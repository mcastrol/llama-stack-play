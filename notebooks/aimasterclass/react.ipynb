{
 "cells": [
  {
   "cell_type": "markdown",
   "metadata": {},
   "source": [
    "# ReAct Agent"
   ]
  },
  {
   "cell_type": "markdown",
   "metadata": {},
   "source": [
    "Adapted from https://github.com/opendatahub-io/llama-stack-demos/blob/main/demos/rag_agentic/notebooks/Level3_advance_agentic_with_Prompt_Chaining_ReAct.ipynb"
   ]
  },
  {
   "cell_type": "code",
   "execution_count": 1,
   "metadata": {},
   "outputs": [],
   "source": [
    "import rich\n",
    "import uuid\n",
    "from llama_stack_client import Agent, LlamaStackClient, AgentEventLogger\n",
    "from llama_stack_client.lib.agents.client_tool import client_tool\n",
    "from llama_stack_client.lib.agents.event_logger import EventLogger\n",
    "from llama_stack_client.lib.agents.react.agent import ReActAgent\n",
    "from llama_stack_client.lib.agents.react.tool_parser import ReActOutput"
   ]
  },
  {
   "cell_type": "code",
   "execution_count": 2,
   "metadata": {},
   "outputs": [],
   "source": [
    "# this may be missing from pyproject.toml, add it if you need it\n",
    "#!uv pip install geocoder"
   ]
  },
  {
   "cell_type": "code",
   "execution_count": 3,
   "metadata": {},
   "outputs": [],
   "source": [
    "@client_tool\n",
    "def get_location(query: str = \"location\"):\n",
    "    \"\"\"\n",
    "    Provide the location upon request.\n",
    "\n",
    "    :param query: The query from user\n",
    "    :returns: Information about user location\n",
    "    \"\"\"\n",
    "    import geocoder\n",
    "    \n",
    "    try:\n",
    "        g = geocoder.ip('me')\n",
    "        if g.ok:\n",
    "            return f\"Your current location is: {g.city}, {g.state}, {g.country}\" # can be modified to return latitude and longitude if needed\n",
    "        else:\n",
    "            return \"Unable to determine your location\"\n",
    "    except Exception as e:\n",
    "        return f\"Error getting location: {str(e)}\""
   ]
  },
  {
   "cell_type": "code",
   "execution_count": 4,
   "metadata": {},
   "outputs": [],
   "source": [
    "client = LlamaStackClient(\n",
    "    base_url=\"http://localhost:8321\",\n",
    ")"
   ]
  },
  {
   "cell_type": "code",
   "execution_count": 5,
   "metadata": {},
   "outputs": [
    {
     "name": "stderr",
     "output_type": "stream",
     "text": [
      "INFO:httpx:HTTP Request: GET http://localhost:8321/v1/models \"HTTP/1.1 200 OK\"\n"
     ]
    },
    {
     "data": {
      "text/html": [
       "<pre style=\"white-space:pre;overflow-x:auto;line-height:normal;font-family:Menlo,'DejaVu Sans Mono',consolas,'Courier New',monospace\"><span style=\"font-weight: bold\">[</span>\n",
       "    <span style=\"color: #800080; text-decoration-color: #800080; font-weight: bold\">Model</span><span style=\"font-weight: bold\">(</span>\n",
       "        <span style=\"color: #808000; text-decoration-color: #808000\">identifier</span>=<span style=\"color: #008000; text-decoration-color: #008000\">'llama3.2:3b-instruct-fp16'</span>,\n",
       "        <span style=\"color: #808000; text-decoration-color: #808000\">metadata</span>=<span style=\"font-weight: bold\">{}</span>,\n",
       "        <span style=\"color: #808000; text-decoration-color: #808000\">api_model_type</span>=<span style=\"color: #008000; text-decoration-color: #008000\">'llm'</span>,\n",
       "        <span style=\"color: #808000; text-decoration-color: #808000\">provider_id</span>=<span style=\"color: #008000; text-decoration-color: #008000\">'ollama'</span>,\n",
       "        <span style=\"color: #808000; text-decoration-color: #808000\">type</span>=<span style=\"color: #008000; text-decoration-color: #008000\">'model'</span>,\n",
       "        <span style=\"color: #808000; text-decoration-color: #808000\">provider_resource_id</span>=<span style=\"color: #008000; text-decoration-color: #008000\">'llama3.2:3b-instruct-fp16'</span>,\n",
       "        <span style=\"color: #808000; text-decoration-color: #808000\">model_type</span>=<span style=\"color: #008000; text-decoration-color: #008000\">'llm'</span>\n",
       "    <span style=\"font-weight: bold\">)</span>,\n",
       "    <span style=\"color: #800080; text-decoration-color: #800080; font-weight: bold\">Model</span><span style=\"font-weight: bold\">(</span>\n",
       "        <span style=\"color: #808000; text-decoration-color: #808000\">identifier</span>=<span style=\"color: #008000; text-decoration-color: #008000\">'all-MiniLM-L6-v2'</span>,\n",
       "        <span style=\"color: #808000; text-decoration-color: #808000\">metadata</span>=<span style=\"font-weight: bold\">{</span><span style=\"color: #008000; text-decoration-color: #008000\">'embedding_dimension'</span>: <span style=\"color: #008080; text-decoration-color: #008080; font-weight: bold\">384.0</span><span style=\"font-weight: bold\">}</span>,\n",
       "        <span style=\"color: #808000; text-decoration-color: #808000\">api_model_type</span>=<span style=\"color: #008000; text-decoration-color: #008000\">'embedding'</span>,\n",
       "        <span style=\"color: #808000; text-decoration-color: #808000\">provider_id</span>=<span style=\"color: #008000; text-decoration-color: #008000\">'ollama'</span>,\n",
       "        <span style=\"color: #808000; text-decoration-color: #808000\">type</span>=<span style=\"color: #008000; text-decoration-color: #008000\">'model'</span>,\n",
       "        <span style=\"color: #808000; text-decoration-color: #808000\">provider_resource_id</span>=<span style=\"color: #008000; text-decoration-color: #008000\">'all-minilm:latest'</span>,\n",
       "        <span style=\"color: #808000; text-decoration-color: #808000\">model_type</span>=<span style=\"color: #008000; text-decoration-color: #008000\">'embedding'</span>\n",
       "    <span style=\"font-weight: bold\">)</span>\n",
       "<span style=\"font-weight: bold\">]</span>\n",
       "</pre>\n"
      ],
      "text/plain": [
       "\u001b[1m[\u001b[0m\n",
       "    \u001b[1;35mModel\u001b[0m\u001b[1m(\u001b[0m\n",
       "        \u001b[33midentifier\u001b[0m=\u001b[32m'llama3.2:3b-instruct-fp16'\u001b[0m,\n",
       "        \u001b[33mmetadata\u001b[0m=\u001b[1m{\u001b[0m\u001b[1m}\u001b[0m,\n",
       "        \u001b[33mapi_model_type\u001b[0m=\u001b[32m'llm'\u001b[0m,\n",
       "        \u001b[33mprovider_id\u001b[0m=\u001b[32m'ollama'\u001b[0m,\n",
       "        \u001b[33mtype\u001b[0m=\u001b[32m'model'\u001b[0m,\n",
       "        \u001b[33mprovider_resource_id\u001b[0m=\u001b[32m'llama3.2:3b-instruct-fp16'\u001b[0m,\n",
       "        \u001b[33mmodel_type\u001b[0m=\u001b[32m'llm'\u001b[0m\n",
       "    \u001b[1m)\u001b[0m,\n",
       "    \u001b[1;35mModel\u001b[0m\u001b[1m(\u001b[0m\n",
       "        \u001b[33midentifier\u001b[0m=\u001b[32m'all-MiniLM-L6-v2'\u001b[0m,\n",
       "        \u001b[33mmetadata\u001b[0m=\u001b[1m{\u001b[0m\u001b[32m'embedding_dimension'\u001b[0m: \u001b[1;36m384.0\u001b[0m\u001b[1m}\u001b[0m,\n",
       "        \u001b[33mapi_model_type\u001b[0m=\u001b[32m'embedding'\u001b[0m,\n",
       "        \u001b[33mprovider_id\u001b[0m=\u001b[32m'ollama'\u001b[0m,\n",
       "        \u001b[33mtype\u001b[0m=\u001b[32m'model'\u001b[0m,\n",
       "        \u001b[33mprovider_resource_id\u001b[0m=\u001b[32m'all-minilm:latest'\u001b[0m,\n",
       "        \u001b[33mmodel_type\u001b[0m=\u001b[32m'embedding'\u001b[0m\n",
       "    \u001b[1m)\u001b[0m\n",
       "\u001b[1m]\u001b[0m\n"
      ]
     },
     "metadata": {},
     "output_type": "display_data"
    }
   ],
   "source": [
    "models = client.models.list()\n",
    "rich.print(models)"
   ]
  },
  {
   "cell_type": "code",
   "execution_count": 6,
   "metadata": {},
   "outputs": [
    {
     "name": "stderr",
     "output_type": "stream",
     "text": [
      "INFO:httpx:HTTP Request: GET http://localhost:8321/v1/toolgroups \"HTTP/1.1 200 OK\"\n"
     ]
    },
    {
     "data": {
      "text/html": [
       "<pre style=\"white-space:pre;overflow-x:auto;line-height:normal;font-family:Menlo,'DejaVu Sans Mono',consolas,'Courier New',monospace\"><span style=\"font-weight: bold\">[</span>\n",
       "    <span style=\"color: #800080; text-decoration-color: #800080; font-weight: bold\">ToolGroup</span><span style=\"font-weight: bold\">(</span>\n",
       "        <span style=\"color: #808000; text-decoration-color: #808000\">identifier</span>=<span style=\"color: #008000; text-decoration-color: #008000\">'builtin::websearch'</span>,\n",
       "        <span style=\"color: #808000; text-decoration-color: #808000\">provider_id</span>=<span style=\"color: #008000; text-decoration-color: #008000\">'tavily-search'</span>,\n",
       "        <span style=\"color: #808000; text-decoration-color: #808000\">type</span>=<span style=\"color: #008000; text-decoration-color: #008000\">'tool_group'</span>,\n",
       "        <span style=\"color: #808000; text-decoration-color: #808000\">args</span>=<span style=\"color: #800080; text-decoration-color: #800080; font-style: italic\">None</span>,\n",
       "        <span style=\"color: #808000; text-decoration-color: #808000\">mcp_endpoint</span>=<span style=\"color: #800080; text-decoration-color: #800080; font-style: italic\">None</span>,\n",
       "        <span style=\"color: #808000; text-decoration-color: #808000\">provider_resource_id</span>=<span style=\"color: #008000; text-decoration-color: #008000\">'builtin::websearch'</span>\n",
       "    <span style=\"font-weight: bold\">)</span>,\n",
       "    <span style=\"color: #800080; text-decoration-color: #800080; font-weight: bold\">ToolGroup</span><span style=\"font-weight: bold\">(</span>\n",
       "        <span style=\"color: #808000; text-decoration-color: #808000\">identifier</span>=<span style=\"color: #008000; text-decoration-color: #008000\">'builtin::rag'</span>,\n",
       "        <span style=\"color: #808000; text-decoration-color: #808000\">provider_id</span>=<span style=\"color: #008000; text-decoration-color: #008000\">'rag-runtime'</span>,\n",
       "        <span style=\"color: #808000; text-decoration-color: #808000\">type</span>=<span style=\"color: #008000; text-decoration-color: #008000\">'tool_group'</span>,\n",
       "        <span style=\"color: #808000; text-decoration-color: #808000\">args</span>=<span style=\"color: #800080; text-decoration-color: #800080; font-style: italic\">None</span>,\n",
       "        <span style=\"color: #808000; text-decoration-color: #808000\">mcp_endpoint</span>=<span style=\"color: #800080; text-decoration-color: #800080; font-style: italic\">None</span>,\n",
       "        <span style=\"color: #808000; text-decoration-color: #808000\">provider_resource_id</span>=<span style=\"color: #008000; text-decoration-color: #008000\">'builtin::rag'</span>\n",
       "    <span style=\"font-weight: bold\">)</span>,\n",
       "    <span style=\"color: #800080; text-decoration-color: #800080; font-weight: bold\">ToolGroup</span><span style=\"font-weight: bold\">(</span>\n",
       "        <span style=\"color: #808000; text-decoration-color: #808000\">identifier</span>=<span style=\"color: #008000; text-decoration-color: #008000\">'builtin::wolfram_alpha'</span>,\n",
       "        <span style=\"color: #808000; text-decoration-color: #808000\">provider_id</span>=<span style=\"color: #008000; text-decoration-color: #008000\">'wolfram-alpha'</span>,\n",
       "        <span style=\"color: #808000; text-decoration-color: #808000\">type</span>=<span style=\"color: #008000; text-decoration-color: #008000\">'tool_group'</span>,\n",
       "        <span style=\"color: #808000; text-decoration-color: #808000\">args</span>=<span style=\"color: #800080; text-decoration-color: #800080; font-style: italic\">None</span>,\n",
       "        <span style=\"color: #808000; text-decoration-color: #808000\">mcp_endpoint</span>=<span style=\"color: #800080; text-decoration-color: #800080; font-style: italic\">None</span>,\n",
       "        <span style=\"color: #808000; text-decoration-color: #808000\">provider_resource_id</span>=<span style=\"color: #008000; text-decoration-color: #008000\">'builtin::wolfram_alpha'</span>\n",
       "    <span style=\"font-weight: bold\">)</span>,\n",
       "    <span style=\"color: #800080; text-decoration-color: #800080; font-weight: bold\">ToolGroup</span><span style=\"font-weight: bold\">(</span>\n",
       "        <span style=\"color: #808000; text-decoration-color: #808000\">identifier</span>=<span style=\"color: #008000; text-decoration-color: #008000\">'mcp::filesystem'</span>,\n",
       "        <span style=\"color: #808000; text-decoration-color: #808000\">provider_id</span>=<span style=\"color: #008000; text-decoration-color: #008000\">'model-context-protocol'</span>,\n",
       "        <span style=\"color: #808000; text-decoration-color: #808000\">type</span>=<span style=\"color: #008000; text-decoration-color: #008000\">'tool_group'</span>,\n",
       "        <span style=\"color: #808000; text-decoration-color: #808000\">args</span>=<span style=\"color: #800080; text-decoration-color: #800080; font-style: italic\">None</span>,\n",
       "        <span style=\"color: #808000; text-decoration-color: #808000\">mcp_endpoint</span>=<span style=\"color: #800080; text-decoration-color: #800080; font-weight: bold\">McpEndpoint</span><span style=\"font-weight: bold\">(</span><span style=\"color: #808000; text-decoration-color: #808000\">uri</span>=<span style=\"color: #008000; text-decoration-color: #008000\">'http://localhost:8000/sse'</span><span style=\"font-weight: bold\">)</span>,\n",
       "        <span style=\"color: #808000; text-decoration-color: #808000\">provider_resource_id</span>=<span style=\"color: #008000; text-decoration-color: #008000\">'mcp::filesystem'</span>\n",
       "    <span style=\"font-weight: bold\">)</span>\n",
       "<span style=\"font-weight: bold\">]</span>\n",
       "</pre>\n"
      ],
      "text/plain": [
       "\u001b[1m[\u001b[0m\n",
       "    \u001b[1;35mToolGroup\u001b[0m\u001b[1m(\u001b[0m\n",
       "        \u001b[33midentifier\u001b[0m=\u001b[32m'builtin::websearch'\u001b[0m,\n",
       "        \u001b[33mprovider_id\u001b[0m=\u001b[32m'tavily-search'\u001b[0m,\n",
       "        \u001b[33mtype\u001b[0m=\u001b[32m'tool_group'\u001b[0m,\n",
       "        \u001b[33margs\u001b[0m=\u001b[3;35mNone\u001b[0m,\n",
       "        \u001b[33mmcp_endpoint\u001b[0m=\u001b[3;35mNone\u001b[0m,\n",
       "        \u001b[33mprovider_resource_id\u001b[0m=\u001b[32m'builtin::websearch'\u001b[0m\n",
       "    \u001b[1m)\u001b[0m,\n",
       "    \u001b[1;35mToolGroup\u001b[0m\u001b[1m(\u001b[0m\n",
       "        \u001b[33midentifier\u001b[0m=\u001b[32m'builtin::rag'\u001b[0m,\n",
       "        \u001b[33mprovider_id\u001b[0m=\u001b[32m'rag-runtime'\u001b[0m,\n",
       "        \u001b[33mtype\u001b[0m=\u001b[32m'tool_group'\u001b[0m,\n",
       "        \u001b[33margs\u001b[0m=\u001b[3;35mNone\u001b[0m,\n",
       "        \u001b[33mmcp_endpoint\u001b[0m=\u001b[3;35mNone\u001b[0m,\n",
       "        \u001b[33mprovider_resource_id\u001b[0m=\u001b[32m'builtin::rag'\u001b[0m\n",
       "    \u001b[1m)\u001b[0m,\n",
       "    \u001b[1;35mToolGroup\u001b[0m\u001b[1m(\u001b[0m\n",
       "        \u001b[33midentifier\u001b[0m=\u001b[32m'builtin::wolfram_alpha'\u001b[0m,\n",
       "        \u001b[33mprovider_id\u001b[0m=\u001b[32m'wolfram-alpha'\u001b[0m,\n",
       "        \u001b[33mtype\u001b[0m=\u001b[32m'tool_group'\u001b[0m,\n",
       "        \u001b[33margs\u001b[0m=\u001b[3;35mNone\u001b[0m,\n",
       "        \u001b[33mmcp_endpoint\u001b[0m=\u001b[3;35mNone\u001b[0m,\n",
       "        \u001b[33mprovider_resource_id\u001b[0m=\u001b[32m'builtin::wolfram_alpha'\u001b[0m\n",
       "    \u001b[1m)\u001b[0m,\n",
       "    \u001b[1;35mToolGroup\u001b[0m\u001b[1m(\u001b[0m\n",
       "        \u001b[33midentifier\u001b[0m=\u001b[32m'mcp::filesystem'\u001b[0m,\n",
       "        \u001b[33mprovider_id\u001b[0m=\u001b[32m'model-context-protocol'\u001b[0m,\n",
       "        \u001b[33mtype\u001b[0m=\u001b[32m'tool_group'\u001b[0m,\n",
       "        \u001b[33margs\u001b[0m=\u001b[3;35mNone\u001b[0m,\n",
       "        \u001b[33mmcp_endpoint\u001b[0m=\u001b[1;35mMcpEndpoint\u001b[0m\u001b[1m(\u001b[0m\u001b[33muri\u001b[0m=\u001b[32m'http://localhost:8000/sse'\u001b[0m\u001b[1m)\u001b[0m,\n",
       "        \u001b[33mprovider_resource_id\u001b[0m=\u001b[32m'mcp::filesystem'\u001b[0m\n",
       "    \u001b[1m)\u001b[0m\n",
       "\u001b[1m]\u001b[0m\n"
      ]
     },
     "metadata": {},
     "output_type": "display_data"
    }
   ],
   "source": [
    "toolgroups = client.toolgroups.list()\n",
    "rich.print(toolgroups)"
   ]
  },
  {
   "cell_type": "code",
   "execution_count": 12,
   "metadata": {},
   "outputs": [
    {
     "name": "stderr",
     "output_type": "stream",
     "text": [
      "INFO:httpx:HTTP Request: GET http://localhost:8321/v1/tools \"HTTP/1.1 500 Internal Server Error\"\n",
      "INFO:llama_stack_client._base_client:Retrying request to /v1/tools in 0.388742 seconds\n",
      "INFO:httpx:HTTP Request: GET http://localhost:8321/v1/tools \"HTTP/1.1 500 Internal Server Error\"\n",
      "INFO:llama_stack_client._base_client:Retrying request to /v1/tools in 0.848228 seconds\n",
      "INFO:httpx:HTTP Request: GET http://localhost:8321/v1/tools \"HTTP/1.1 500 Internal Server Error\"\n"
     ]
    },
    {
     "ename": "InternalServerError",
     "evalue": "Error code: 500 - {'detail': 'Internal server error: An unexpected error occurred.'}",
     "output_type": "error",
     "traceback": [
      "\u001b[31m---------------------------------------------------------------------------\u001b[39m",
      "\u001b[31mInternalServerError\u001b[39m                       Traceback (most recent call last)",
      "\u001b[36mCell\u001b[39m\u001b[36m \u001b[39m\u001b[32mIn[12]\u001b[39m\u001b[32m, line 1\u001b[39m\n\u001b[32m----> \u001b[39m\u001b[32m1\u001b[39m tools = \u001b[43mclient\u001b[49m\u001b[43m.\u001b[49m\u001b[43mtools\u001b[49m\u001b[43m.\u001b[49m\u001b[43mlist\u001b[49m\u001b[43m(\u001b[49m\u001b[43m)\u001b[49m\n\u001b[32m      2\u001b[39m rich.print(tools)\n",
      "\u001b[36mFile \u001b[39m\u001b[32m~/github/llama-stack-play/.venv/lib/python3.12/site-packages/llama_stack_client/resources/tools.py:73\u001b[39m, in \u001b[36mToolsResource.list\u001b[39m\u001b[34m(self, toolgroup_id, extra_headers, extra_query, extra_body, timeout)\u001b[39m\n\u001b[32m     48\u001b[39m \u001b[38;5;28;01mdef\u001b[39;00m\u001b[38;5;250m \u001b[39m\u001b[34mlist\u001b[39m(\n\u001b[32m     49\u001b[39m     \u001b[38;5;28mself\u001b[39m,\n\u001b[32m     50\u001b[39m     *,\n\u001b[32m   (...)\u001b[39m\u001b[32m     57\u001b[39m     timeout: \u001b[38;5;28mfloat\u001b[39m | httpx.Timeout | \u001b[38;5;28;01mNone\u001b[39;00m | NotGiven = NOT_GIVEN,\n\u001b[32m     58\u001b[39m ) -> ToolListResponse:\n\u001b[32m     59\u001b[39m \u001b[38;5;250m    \u001b[39m\u001b[33;03m\"\"\"\u001b[39;00m\n\u001b[32m     60\u001b[39m \u001b[33;03m    List tools with optional tool group.\u001b[39;00m\n\u001b[32m     61\u001b[39m \n\u001b[32m   (...)\u001b[39m\u001b[32m     71\u001b[39m \u001b[33;03m      timeout: Override the client-level default timeout for this request, in seconds\u001b[39;00m\n\u001b[32m     72\u001b[39m \u001b[33;03m    \"\"\"\u001b[39;00m\n\u001b[32m---> \u001b[39m\u001b[32m73\u001b[39m     \u001b[38;5;28;01mreturn\u001b[39;00m \u001b[38;5;28;43mself\u001b[39;49m\u001b[43m.\u001b[49m\u001b[43m_get\u001b[49m\u001b[43m(\u001b[49m\n\u001b[32m     74\u001b[39m \u001b[43m        \u001b[49m\u001b[33;43m\"\u001b[39;49m\u001b[33;43m/v1/tools\u001b[39;49m\u001b[33;43m\"\u001b[39;49m\u001b[43m,\u001b[49m\n\u001b[32m     75\u001b[39m \u001b[43m        \u001b[49m\u001b[43moptions\u001b[49m\u001b[43m=\u001b[49m\u001b[43mmake_request_options\u001b[49m\u001b[43m(\u001b[49m\n\u001b[32m     76\u001b[39m \u001b[43m            \u001b[49m\u001b[43mextra_headers\u001b[49m\u001b[43m=\u001b[49m\u001b[43mextra_headers\u001b[49m\u001b[43m,\u001b[49m\n\u001b[32m     77\u001b[39m \u001b[43m            \u001b[49m\u001b[43mextra_query\u001b[49m\u001b[43m=\u001b[49m\u001b[43mextra_query\u001b[49m\u001b[43m,\u001b[49m\n\u001b[32m     78\u001b[39m \u001b[43m            \u001b[49m\u001b[43mextra_body\u001b[49m\u001b[43m=\u001b[49m\u001b[43mextra_body\u001b[49m\u001b[43m,\u001b[49m\n\u001b[32m     79\u001b[39m \u001b[43m            \u001b[49m\u001b[43mtimeout\u001b[49m\u001b[43m=\u001b[49m\u001b[43mtimeout\u001b[49m\u001b[43m,\u001b[49m\n\u001b[32m     80\u001b[39m \u001b[43m            \u001b[49m\u001b[43mquery\u001b[49m\u001b[43m=\u001b[49m\u001b[43mmaybe_transform\u001b[49m\u001b[43m(\u001b[49m\u001b[43m{\u001b[49m\u001b[33;43m\"\u001b[39;49m\u001b[33;43mtoolgroup_id\u001b[39;49m\u001b[33;43m\"\u001b[39;49m\u001b[43m:\u001b[49m\u001b[43m \u001b[49m\u001b[43mtoolgroup_id\u001b[49m\u001b[43m}\u001b[49m\u001b[43m,\u001b[49m\u001b[43m \u001b[49m\u001b[43mtool_list_params\u001b[49m\u001b[43m.\u001b[49m\u001b[43mToolListParams\u001b[49m\u001b[43m)\u001b[49m\u001b[43m,\u001b[49m\n\u001b[32m     81\u001b[39m \u001b[43m            \u001b[49m\u001b[43mpost_parser\u001b[49m\u001b[43m=\u001b[49m\u001b[43mDataWrapper\u001b[49m\u001b[43m[\u001b[49m\u001b[43mToolListResponse\u001b[49m\u001b[43m]\u001b[49m\u001b[43m.\u001b[49m\u001b[43m_unwrapper\u001b[49m\u001b[43m,\u001b[49m\n\u001b[32m     82\u001b[39m \u001b[43m        \u001b[49m\u001b[43m)\u001b[49m\u001b[43m,\u001b[49m\n\u001b[32m     83\u001b[39m \u001b[43m        \u001b[49m\u001b[43mcast_to\u001b[49m\u001b[43m=\u001b[49m\u001b[43mcast\u001b[49m\u001b[43m(\u001b[49m\u001b[43mType\u001b[49m\u001b[43m[\u001b[49m\u001b[43mToolListResponse\u001b[49m\u001b[43m]\u001b[49m\u001b[43m,\u001b[49m\u001b[43m \u001b[49m\u001b[43mDataWrapper\u001b[49m\u001b[43m[\u001b[49m\u001b[43mToolListResponse\u001b[49m\u001b[43m]\u001b[49m\u001b[43m)\u001b[49m\u001b[43m,\u001b[49m\n\u001b[32m     84\u001b[39m \u001b[43m    \u001b[49m\u001b[43m)\u001b[49m\n",
      "\u001b[36mFile \u001b[39m\u001b[32m~/github/llama-stack-play/.venv/lib/python3.12/site-packages/llama_stack_client/_base_client.py:1168\u001b[39m, in \u001b[36mSyncAPIClient.get\u001b[39m\u001b[34m(self, path, cast_to, options, stream, stream_cls)\u001b[39m\n\u001b[32m   1165\u001b[39m opts = FinalRequestOptions.construct(method=\u001b[33m\"\u001b[39m\u001b[33mget\u001b[39m\u001b[33m\"\u001b[39m, url=path, **options)\n\u001b[32m   1166\u001b[39m \u001b[38;5;66;03m# cast is required because mypy complains about returning Any even though\u001b[39;00m\n\u001b[32m   1167\u001b[39m \u001b[38;5;66;03m# it understands the type variables\u001b[39;00m\n\u001b[32m-> \u001b[39m\u001b[32m1168\u001b[39m \u001b[38;5;28;01mreturn\u001b[39;00m cast(ResponseT, \u001b[38;5;28;43mself\u001b[39;49m\u001b[43m.\u001b[49m\u001b[43mrequest\u001b[49m\u001b[43m(\u001b[49m\u001b[43mcast_to\u001b[49m\u001b[43m,\u001b[49m\u001b[43m \u001b[49m\u001b[43mopts\u001b[49m\u001b[43m,\u001b[49m\u001b[43m \u001b[49m\u001b[43mstream\u001b[49m\u001b[43m=\u001b[49m\u001b[43mstream\u001b[49m\u001b[43m,\u001b[49m\u001b[43m \u001b[49m\u001b[43mstream_cls\u001b[49m\u001b[43m=\u001b[49m\u001b[43mstream_cls\u001b[49m\u001b[43m)\u001b[49m)\n",
      "\u001b[36mFile \u001b[39m\u001b[32m~/github/llama-stack-play/.venv/lib/python3.12/site-packages/llama_stack_client/_base_client.py:1031\u001b[39m, in \u001b[36mSyncAPIClient.request\u001b[39m\u001b[34m(self, cast_to, options, stream, stream_cls)\u001b[39m\n\u001b[32m   1028\u001b[39m             err.response.read()\n\u001b[32m   1030\u001b[39m         log.debug(\u001b[33m\"\u001b[39m\u001b[33mRe-raising status error\u001b[39m\u001b[33m\"\u001b[39m)\n\u001b[32m-> \u001b[39m\u001b[32m1031\u001b[39m         \u001b[38;5;28;01mraise\u001b[39;00m \u001b[38;5;28mself\u001b[39m._make_status_error_from_response(err.response) \u001b[38;5;28;01mfrom\u001b[39;00m\u001b[38;5;250m \u001b[39m\u001b[38;5;28;01mNone\u001b[39;00m\n\u001b[32m   1033\u001b[39m     \u001b[38;5;28;01mbreak\u001b[39;00m\n\u001b[32m   1035\u001b[39m \u001b[38;5;28;01massert\u001b[39;00m response \u001b[38;5;129;01mis\u001b[39;00m \u001b[38;5;129;01mnot\u001b[39;00m \u001b[38;5;28;01mNone\u001b[39;00m, \u001b[33m\"\u001b[39m\u001b[33mcould not resolve response (should never happen)\u001b[39m\u001b[33m\"\u001b[39m\n",
      "\u001b[31mInternalServerError\u001b[39m: Error code: 500 - {'detail': 'Internal server error: An unexpected error occurred.'}"
     ]
    }
   ],
   "source": [
    "tools = client.tools.list()\n",
    "rich.print(tools)"
   ]
  },
  {
   "cell_type": "markdown",
   "metadata": {},
   "source": [
    "## Baseline"
   ]
  },
  {
   "cell_type": "code",
   "execution_count": 13,
   "metadata": {},
   "outputs": [
    {
     "name": "stderr",
     "output_type": "stream",
     "text": [
      "INFO:httpx:HTTP Request: POST http://localhost:8321/v1/toolgroups \"HTTP/1.1 200 OK\"\n"
     ]
    }
   ],
   "source": [
    "client.toolgroups.register(\n",
    "    toolgroup_id=\"builtin::websearch\",\n",
    "    provider_id=\"tavily-search\",\n",
    ")"
   ]
  },
  {
   "cell_type": "code",
   "execution_count": 14,
   "metadata": {},
   "outputs": [
    {
     "name": "stderr",
     "output_type": "stream",
     "text": [
      "INFO:httpx:HTTP Request: GET http://localhost:8321/v1/toolgroups \"HTTP/1.1 200 OK\"\n"
     ]
    },
    {
     "data": {
      "text/html": [
       "<pre style=\"white-space:pre;overflow-x:auto;line-height:normal;font-family:Menlo,'DejaVu Sans Mono',consolas,'Courier New',monospace\"><span style=\"font-weight: bold\">[</span>\n",
       "    <span style=\"color: #800080; text-decoration-color: #800080; font-weight: bold\">ToolGroup</span><span style=\"font-weight: bold\">(</span>\n",
       "        <span style=\"color: #808000; text-decoration-color: #808000\">identifier</span>=<span style=\"color: #008000; text-decoration-color: #008000\">'builtin::websearch'</span>,\n",
       "        <span style=\"color: #808000; text-decoration-color: #808000\">provider_id</span>=<span style=\"color: #008000; text-decoration-color: #008000\">'tavily-search'</span>,\n",
       "        <span style=\"color: #808000; text-decoration-color: #808000\">type</span>=<span style=\"color: #008000; text-decoration-color: #008000\">'tool_group'</span>,\n",
       "        <span style=\"color: #808000; text-decoration-color: #808000\">args</span>=<span style=\"color: #800080; text-decoration-color: #800080; font-style: italic\">None</span>,\n",
       "        <span style=\"color: #808000; text-decoration-color: #808000\">mcp_endpoint</span>=<span style=\"color: #800080; text-decoration-color: #800080; font-style: italic\">None</span>,\n",
       "        <span style=\"color: #808000; text-decoration-color: #808000\">provider_resource_id</span>=<span style=\"color: #008000; text-decoration-color: #008000\">'builtin::websearch'</span>\n",
       "    <span style=\"font-weight: bold\">)</span>,\n",
       "    <span style=\"color: #800080; text-decoration-color: #800080; font-weight: bold\">ToolGroup</span><span style=\"font-weight: bold\">(</span>\n",
       "        <span style=\"color: #808000; text-decoration-color: #808000\">identifier</span>=<span style=\"color: #008000; text-decoration-color: #008000\">'builtin::rag'</span>,\n",
       "        <span style=\"color: #808000; text-decoration-color: #808000\">provider_id</span>=<span style=\"color: #008000; text-decoration-color: #008000\">'rag-runtime'</span>,\n",
       "        <span style=\"color: #808000; text-decoration-color: #808000\">type</span>=<span style=\"color: #008000; text-decoration-color: #008000\">'tool_group'</span>,\n",
       "        <span style=\"color: #808000; text-decoration-color: #808000\">args</span>=<span style=\"color: #800080; text-decoration-color: #800080; font-style: italic\">None</span>,\n",
       "        <span style=\"color: #808000; text-decoration-color: #808000\">mcp_endpoint</span>=<span style=\"color: #800080; text-decoration-color: #800080; font-style: italic\">None</span>,\n",
       "        <span style=\"color: #808000; text-decoration-color: #808000\">provider_resource_id</span>=<span style=\"color: #008000; text-decoration-color: #008000\">'builtin::rag'</span>\n",
       "    <span style=\"font-weight: bold\">)</span>,\n",
       "    <span style=\"color: #800080; text-decoration-color: #800080; font-weight: bold\">ToolGroup</span><span style=\"font-weight: bold\">(</span>\n",
       "        <span style=\"color: #808000; text-decoration-color: #808000\">identifier</span>=<span style=\"color: #008000; text-decoration-color: #008000\">'builtin::wolfram_alpha'</span>,\n",
       "        <span style=\"color: #808000; text-decoration-color: #808000\">provider_id</span>=<span style=\"color: #008000; text-decoration-color: #008000\">'wolfram-alpha'</span>,\n",
       "        <span style=\"color: #808000; text-decoration-color: #808000\">type</span>=<span style=\"color: #008000; text-decoration-color: #008000\">'tool_group'</span>,\n",
       "        <span style=\"color: #808000; text-decoration-color: #808000\">args</span>=<span style=\"color: #800080; text-decoration-color: #800080; font-style: italic\">None</span>,\n",
       "        <span style=\"color: #808000; text-decoration-color: #808000\">mcp_endpoint</span>=<span style=\"color: #800080; text-decoration-color: #800080; font-style: italic\">None</span>,\n",
       "        <span style=\"color: #808000; text-decoration-color: #808000\">provider_resource_id</span>=<span style=\"color: #008000; text-decoration-color: #008000\">'builtin::wolfram_alpha'</span>\n",
       "    <span style=\"font-weight: bold\">)</span>,\n",
       "    <span style=\"color: #800080; text-decoration-color: #800080; font-weight: bold\">ToolGroup</span><span style=\"font-weight: bold\">(</span>\n",
       "        <span style=\"color: #808000; text-decoration-color: #808000\">identifier</span>=<span style=\"color: #008000; text-decoration-color: #008000\">'mcp::filesystem'</span>,\n",
       "        <span style=\"color: #808000; text-decoration-color: #808000\">provider_id</span>=<span style=\"color: #008000; text-decoration-color: #008000\">'model-context-protocol'</span>,\n",
       "        <span style=\"color: #808000; text-decoration-color: #808000\">type</span>=<span style=\"color: #008000; text-decoration-color: #008000\">'tool_group'</span>,\n",
       "        <span style=\"color: #808000; text-decoration-color: #808000\">args</span>=<span style=\"color: #800080; text-decoration-color: #800080; font-style: italic\">None</span>,\n",
       "        <span style=\"color: #808000; text-decoration-color: #808000\">mcp_endpoint</span>=<span style=\"color: #800080; text-decoration-color: #800080; font-weight: bold\">McpEndpoint</span><span style=\"font-weight: bold\">(</span><span style=\"color: #808000; text-decoration-color: #808000\">uri</span>=<span style=\"color: #008000; text-decoration-color: #008000\">'http://localhost:8000/sse'</span><span style=\"font-weight: bold\">)</span>,\n",
       "        <span style=\"color: #808000; text-decoration-color: #808000\">provider_resource_id</span>=<span style=\"color: #008000; text-decoration-color: #008000\">'mcp::filesystem'</span>\n",
       "    <span style=\"font-weight: bold\">)</span>\n",
       "<span style=\"font-weight: bold\">]</span>\n",
       "</pre>\n"
      ],
      "text/plain": [
       "\u001b[1m[\u001b[0m\n",
       "    \u001b[1;35mToolGroup\u001b[0m\u001b[1m(\u001b[0m\n",
       "        \u001b[33midentifier\u001b[0m=\u001b[32m'builtin::websearch'\u001b[0m,\n",
       "        \u001b[33mprovider_id\u001b[0m=\u001b[32m'tavily-search'\u001b[0m,\n",
       "        \u001b[33mtype\u001b[0m=\u001b[32m'tool_group'\u001b[0m,\n",
       "        \u001b[33margs\u001b[0m=\u001b[3;35mNone\u001b[0m,\n",
       "        \u001b[33mmcp_endpoint\u001b[0m=\u001b[3;35mNone\u001b[0m,\n",
       "        \u001b[33mprovider_resource_id\u001b[0m=\u001b[32m'builtin::websearch'\u001b[0m\n",
       "    \u001b[1m)\u001b[0m,\n",
       "    \u001b[1;35mToolGroup\u001b[0m\u001b[1m(\u001b[0m\n",
       "        \u001b[33midentifier\u001b[0m=\u001b[32m'builtin::rag'\u001b[0m,\n",
       "        \u001b[33mprovider_id\u001b[0m=\u001b[32m'rag-runtime'\u001b[0m,\n",
       "        \u001b[33mtype\u001b[0m=\u001b[32m'tool_group'\u001b[0m,\n",
       "        \u001b[33margs\u001b[0m=\u001b[3;35mNone\u001b[0m,\n",
       "        \u001b[33mmcp_endpoint\u001b[0m=\u001b[3;35mNone\u001b[0m,\n",
       "        \u001b[33mprovider_resource_id\u001b[0m=\u001b[32m'builtin::rag'\u001b[0m\n",
       "    \u001b[1m)\u001b[0m,\n",
       "    \u001b[1;35mToolGroup\u001b[0m\u001b[1m(\u001b[0m\n",
       "        \u001b[33midentifier\u001b[0m=\u001b[32m'builtin::wolfram_alpha'\u001b[0m,\n",
       "        \u001b[33mprovider_id\u001b[0m=\u001b[32m'wolfram-alpha'\u001b[0m,\n",
       "        \u001b[33mtype\u001b[0m=\u001b[32m'tool_group'\u001b[0m,\n",
       "        \u001b[33margs\u001b[0m=\u001b[3;35mNone\u001b[0m,\n",
       "        \u001b[33mmcp_endpoint\u001b[0m=\u001b[3;35mNone\u001b[0m,\n",
       "        \u001b[33mprovider_resource_id\u001b[0m=\u001b[32m'builtin::wolfram_alpha'\u001b[0m\n",
       "    \u001b[1m)\u001b[0m,\n",
       "    \u001b[1;35mToolGroup\u001b[0m\u001b[1m(\u001b[0m\n",
       "        \u001b[33midentifier\u001b[0m=\u001b[32m'mcp::filesystem'\u001b[0m,\n",
       "        \u001b[33mprovider_id\u001b[0m=\u001b[32m'model-context-protocol'\u001b[0m,\n",
       "        \u001b[33mtype\u001b[0m=\u001b[32m'tool_group'\u001b[0m,\n",
       "        \u001b[33margs\u001b[0m=\u001b[3;35mNone\u001b[0m,\n",
       "        \u001b[33mmcp_endpoint\u001b[0m=\u001b[1;35mMcpEndpoint\u001b[0m\u001b[1m(\u001b[0m\u001b[33muri\u001b[0m=\u001b[32m'http://localhost:8000/sse'\u001b[0m\u001b[1m)\u001b[0m,\n",
       "        \u001b[33mprovider_resource_id\u001b[0m=\u001b[32m'mcp::filesystem'\u001b[0m\n",
       "    \u001b[1m)\u001b[0m\n",
       "\u001b[1m]\u001b[0m\n"
      ]
     },
     "metadata": {},
     "output_type": "display_data"
    }
   ],
   "source": [
    "toolgroups = client.toolgroups.list()\n",
    "rich.print(toolgroups)"
   ]
  },
  {
   "cell_type": "code",
   "execution_count": 17,
   "metadata": {},
   "outputs": [
    {
     "name": "stderr",
     "output_type": "stream",
     "text": [
      "INFO:httpx:HTTP Request: POST http://localhost:8321/v1/agents \"HTTP/1.1 200 OK\"\n",
      "INFO:httpx:HTTP Request: GET http://localhost:8321/v1/tools?toolgroup_id=builtin%3A%3Awebsearch \"HTTP/1.1 200 OK\"\n"
     ]
    }
   ],
   "source": [
    "agent = Agent(\n",
    "    client,\n",
    "    model=\"llama3.2:3b-instruct-fp16\",\n",
    "    instructions=\"You are a helpful assistant.\",\n",
    "    tools=[\"builtin::websearch\"],\n",
    ")"
   ]
  },
  {
   "cell_type": "code",
   "execution_count": 18,
   "metadata": {},
   "outputs": [
    {
     "name": "stderr",
     "output_type": "stream",
     "text": [
      "INFO:httpx:HTTP Request: POST http://localhost:8321/v1/agents/4e3c3c82-5cde-4c57-8e00-c562cde3a427/session \"HTTP/1.1 200 OK\"\n",
      "INFO:httpx:HTTP Request: POST http://localhost:8321/v1/agents/4e3c3c82-5cde-4c57-8e00-c562cde3a427/session/0cdc8d24-e47e-4553-a751-f13b77623cc3/turn \"HTTP/1.1 200 OK\"\n"
     ]
    },
    {
     "data": {
      "text/html": [
       "<pre style=\"white-space:pre;overflow-x:auto;line-height:normal;font-family:Menlo,'DejaVu Sans Mono',consolas,'Courier New',monospace\"><span style=\"color: #800080; text-decoration-color: #800080; font-weight: bold\">Turn</span><span style=\"font-weight: bold\">(</span>\n",
       "    <span style=\"color: #808000; text-decoration-color: #808000\">input_messages</span>=<span style=\"font-weight: bold\">[</span><span style=\"color: #800080; text-decoration-color: #800080; font-weight: bold\">UserMessage</span><span style=\"font-weight: bold\">(</span><span style=\"color: #808000; text-decoration-color: #808000\">content</span>=<span style=\"color: #008000; text-decoration-color: #008000\">'Are you able to search the web?'</span>, <span style=\"color: #808000; text-decoration-color: #808000\">role</span>=<span style=\"color: #008000; text-decoration-color: #008000\">'user'</span>, <span style=\"color: #808000; text-decoration-color: #808000\">context</span>=<span style=\"color: #800080; text-decoration-color: #800080; font-style: italic\">None</span><span style=\"font-weight: bold\">)]</span>,\n",
       "    <span style=\"color: #808000; text-decoration-color: #808000\">output_message</span>=<span style=\"color: #800080; text-decoration-color: #800080; font-weight: bold\">CompletionMessage</span><span style=\"font-weight: bold\">(</span>\n",
       "        <span style=\"color: #808000; text-decoration-color: #808000\">content</span>=<span style=\"color: #008000; text-decoration-color: #008000\">'Yes, I can search the web for information on a wide range of topics. What would you like me to </span>\n",
       "<span style=\"color: #008000; text-decoration-color: #008000\">look up?'</span>,\n",
       "        <span style=\"color: #808000; text-decoration-color: #808000\">role</span>=<span style=\"color: #008000; text-decoration-color: #008000\">'assistant'</span>,\n",
       "        <span style=\"color: #808000; text-decoration-color: #808000\">stop_reason</span>=<span style=\"color: #008000; text-decoration-color: #008000\">'end_of_turn'</span>,\n",
       "        <span style=\"color: #808000; text-decoration-color: #808000\">tool_calls</span>=<span style=\"font-weight: bold\">[]</span>\n",
       "    <span style=\"font-weight: bold\">)</span>,\n",
       "    <span style=\"color: #808000; text-decoration-color: #808000\">session_id</span>=<span style=\"color: #008000; text-decoration-color: #008000\">'0cdc8d24-e47e-4553-a751-f13b77623cc3'</span>,\n",
       "    <span style=\"color: #808000; text-decoration-color: #808000\">started_at</span>=<span style=\"color: #800080; text-decoration-color: #800080; font-weight: bold\">datetime</span><span style=\"color: #800080; text-decoration-color: #800080; font-weight: bold\">.datetime</span><span style=\"font-weight: bold\">(</span><span style=\"color: #008080; text-decoration-color: #008080; font-weight: bold\">2025</span>, <span style=\"color: #008080; text-decoration-color: #008080; font-weight: bold\">6</span>, <span style=\"color: #008080; text-decoration-color: #008080; font-weight: bold\">6</span>, <span style=\"color: #008080; text-decoration-color: #008080; font-weight: bold\">13</span>, <span style=\"color: #008080; text-decoration-color: #008080; font-weight: bold\">44</span>, <span style=\"color: #008080; text-decoration-color: #008080; font-weight: bold\">5</span>, <span style=\"color: #008080; text-decoration-color: #008080; font-weight: bold\">331467</span>, <span style=\"color: #808000; text-decoration-color: #808000\">tzinfo</span>=<span style=\"color: #800080; text-decoration-color: #800080; font-weight: bold\">TzInfo</span><span style=\"font-weight: bold\">(</span>UTC<span style=\"font-weight: bold\">))</span>,\n",
       "    <span style=\"color: #808000; text-decoration-color: #808000\">steps</span>=<span style=\"font-weight: bold\">[</span>\n",
       "        <span style=\"color: #800080; text-decoration-color: #800080; font-weight: bold\">InferenceStep</span><span style=\"font-weight: bold\">(</span>\n",
       "            <span style=\"color: #808000; text-decoration-color: #808000\">api_model_response</span>=<span style=\"color: #800080; text-decoration-color: #800080; font-weight: bold\">CompletionMessage</span><span style=\"font-weight: bold\">(</span>\n",
       "                <span style=\"color: #808000; text-decoration-color: #808000\">content</span>=<span style=\"color: #008000; text-decoration-color: #008000\">'Yes, I can search the web for information on a wide range of topics. What would you like </span>\n",
       "<span style=\"color: #008000; text-decoration-color: #008000\">me to look up?'</span>,\n",
       "                <span style=\"color: #808000; text-decoration-color: #808000\">role</span>=<span style=\"color: #008000; text-decoration-color: #008000\">'assistant'</span>,\n",
       "                <span style=\"color: #808000; text-decoration-color: #808000\">stop_reason</span>=<span style=\"color: #008000; text-decoration-color: #008000\">'end_of_turn'</span>,\n",
       "                <span style=\"color: #808000; text-decoration-color: #808000\">tool_calls</span>=<span style=\"font-weight: bold\">[]</span>\n",
       "            <span style=\"font-weight: bold\">)</span>,\n",
       "            <span style=\"color: #808000; text-decoration-color: #808000\">step_id</span>=<span style=\"color: #008000; text-decoration-color: #008000\">'ee48a994-2719-44b2-9be7-a2785a0a70b8'</span>,\n",
       "            <span style=\"color: #808000; text-decoration-color: #808000\">step_type</span>=<span style=\"color: #008000; text-decoration-color: #008000\">'inference'</span>,\n",
       "            <span style=\"color: #808000; text-decoration-color: #808000\">turn_id</span>=<span style=\"color: #008000; text-decoration-color: #008000\">'a7017ac2-f332-4612-af0f-270eeef900e2'</span>,\n",
       "            <span style=\"color: #808000; text-decoration-color: #808000\">completed_at</span>=<span style=\"color: #800080; text-decoration-color: #800080; font-weight: bold\">datetime</span><span style=\"color: #800080; text-decoration-color: #800080; font-weight: bold\">.datetime</span><span style=\"font-weight: bold\">(</span><span style=\"color: #008080; text-decoration-color: #008080; font-weight: bold\">2025</span>, <span style=\"color: #008080; text-decoration-color: #008080; font-weight: bold\">6</span>, <span style=\"color: #008080; text-decoration-color: #008080; font-weight: bold\">6</span>, <span style=\"color: #008080; text-decoration-color: #008080; font-weight: bold\">13</span>, <span style=\"color: #008080; text-decoration-color: #008080; font-weight: bold\">44</span>, <span style=\"color: #008080; text-decoration-color: #008080; font-weight: bold\">12</span>, <span style=\"color: #008080; text-decoration-color: #008080; font-weight: bold\">986461</span>, <span style=\"color: #808000; text-decoration-color: #808000\">tzinfo</span>=<span style=\"color: #800080; text-decoration-color: #800080; font-weight: bold\">TzInfo</span><span style=\"font-weight: bold\">(</span>UTC<span style=\"font-weight: bold\">))</span>,\n",
       "            <span style=\"color: #808000; text-decoration-color: #808000\">started_at</span>=<span style=\"color: #800080; text-decoration-color: #800080; font-weight: bold\">datetime</span><span style=\"color: #800080; text-decoration-color: #800080; font-weight: bold\">.datetime</span><span style=\"font-weight: bold\">(</span><span style=\"color: #008080; text-decoration-color: #008080; font-weight: bold\">2025</span>, <span style=\"color: #008080; text-decoration-color: #008080; font-weight: bold\">6</span>, <span style=\"color: #008080; text-decoration-color: #008080; font-weight: bold\">6</span>, <span style=\"color: #008080; text-decoration-color: #008080; font-weight: bold\">13</span>, <span style=\"color: #008080; text-decoration-color: #008080; font-weight: bold\">44</span>, <span style=\"color: #008080; text-decoration-color: #008080; font-weight: bold\">5</span>, <span style=\"color: #008080; text-decoration-color: #008080; font-weight: bold\">331797</span>, <span style=\"color: #808000; text-decoration-color: #808000\">tzinfo</span>=<span style=\"color: #800080; text-decoration-color: #800080; font-weight: bold\">TzInfo</span><span style=\"font-weight: bold\">(</span>UTC<span style=\"font-weight: bold\">))</span>\n",
       "        <span style=\"font-weight: bold\">)</span>\n",
       "    <span style=\"font-weight: bold\">]</span>,\n",
       "    <span style=\"color: #808000; text-decoration-color: #808000\">turn_id</span>=<span style=\"color: #008000; text-decoration-color: #008000\">'a7017ac2-f332-4612-af0f-270eeef900e2'</span>,\n",
       "    <span style=\"color: #808000; text-decoration-color: #808000\">completed_at</span>=<span style=\"color: #800080; text-decoration-color: #800080; font-weight: bold\">datetime</span><span style=\"color: #800080; text-decoration-color: #800080; font-weight: bold\">.datetime</span><span style=\"font-weight: bold\">(</span><span style=\"color: #008080; text-decoration-color: #008080; font-weight: bold\">2025</span>, <span style=\"color: #008080; text-decoration-color: #008080; font-weight: bold\">6</span>, <span style=\"color: #008080; text-decoration-color: #008080; font-weight: bold\">6</span>, <span style=\"color: #008080; text-decoration-color: #008080; font-weight: bold\">13</span>, <span style=\"color: #008080; text-decoration-color: #008080; font-weight: bold\">44</span>, <span style=\"color: #008080; text-decoration-color: #008080; font-weight: bold\">13</span>, <span style=\"color: #008080; text-decoration-color: #008080; font-weight: bold\">1077</span>, <span style=\"color: #808000; text-decoration-color: #808000\">tzinfo</span>=<span style=\"color: #800080; text-decoration-color: #800080; font-weight: bold\">TzInfo</span><span style=\"font-weight: bold\">(</span>UTC<span style=\"font-weight: bold\">))</span>,\n",
       "    <span style=\"color: #808000; text-decoration-color: #808000\">output_attachments</span>=<span style=\"font-weight: bold\">[]</span>\n",
       "<span style=\"font-weight: bold\">)</span>\n",
       "</pre>\n"
      ],
      "text/plain": [
       "\u001b[1;35mTurn\u001b[0m\u001b[1m(\u001b[0m\n",
       "    \u001b[33minput_messages\u001b[0m=\u001b[1m[\u001b[0m\u001b[1;35mUserMessage\u001b[0m\u001b[1m(\u001b[0m\u001b[33mcontent\u001b[0m=\u001b[32m'Are you able to search the web?'\u001b[0m, \u001b[33mrole\u001b[0m=\u001b[32m'user'\u001b[0m, \u001b[33mcontext\u001b[0m=\u001b[3;35mNone\u001b[0m\u001b[1m)\u001b[0m\u001b[1m]\u001b[0m,\n",
       "    \u001b[33moutput_message\u001b[0m=\u001b[1;35mCompletionMessage\u001b[0m\u001b[1m(\u001b[0m\n",
       "        \u001b[33mcontent\u001b[0m=\u001b[32m'Yes, I can search the web for information on a wide range of topics. What would you like me to \u001b[0m\n",
       "\u001b[32mlook up?'\u001b[0m,\n",
       "        \u001b[33mrole\u001b[0m=\u001b[32m'assistant'\u001b[0m,\n",
       "        \u001b[33mstop_reason\u001b[0m=\u001b[32m'end_of_turn'\u001b[0m,\n",
       "        \u001b[33mtool_calls\u001b[0m=\u001b[1m[\u001b[0m\u001b[1m]\u001b[0m\n",
       "    \u001b[1m)\u001b[0m,\n",
       "    \u001b[33msession_id\u001b[0m=\u001b[32m'0cdc8d24-e47e-4553-a751-f13b77623cc3'\u001b[0m,\n",
       "    \u001b[33mstarted_at\u001b[0m=\u001b[1;35mdatetime\u001b[0m\u001b[1;35m.datetime\u001b[0m\u001b[1m(\u001b[0m\u001b[1;36m2025\u001b[0m, \u001b[1;36m6\u001b[0m, \u001b[1;36m6\u001b[0m, \u001b[1;36m13\u001b[0m, \u001b[1;36m44\u001b[0m, \u001b[1;36m5\u001b[0m, \u001b[1;36m331467\u001b[0m, \u001b[33mtzinfo\u001b[0m=\u001b[1;35mTzInfo\u001b[0m\u001b[1m(\u001b[0mUTC\u001b[1m)\u001b[0m\u001b[1m)\u001b[0m,\n",
       "    \u001b[33msteps\u001b[0m=\u001b[1m[\u001b[0m\n",
       "        \u001b[1;35mInferenceStep\u001b[0m\u001b[1m(\u001b[0m\n",
       "            \u001b[33mapi_model_response\u001b[0m=\u001b[1;35mCompletionMessage\u001b[0m\u001b[1m(\u001b[0m\n",
       "                \u001b[33mcontent\u001b[0m=\u001b[32m'Yes, I can search the web for information on a wide range of topics. What would you like \u001b[0m\n",
       "\u001b[32mme to look up?'\u001b[0m,\n",
       "                \u001b[33mrole\u001b[0m=\u001b[32m'assistant'\u001b[0m,\n",
       "                \u001b[33mstop_reason\u001b[0m=\u001b[32m'end_of_turn'\u001b[0m,\n",
       "                \u001b[33mtool_calls\u001b[0m=\u001b[1m[\u001b[0m\u001b[1m]\u001b[0m\n",
       "            \u001b[1m)\u001b[0m,\n",
       "            \u001b[33mstep_id\u001b[0m=\u001b[32m'ee48a994-2719-44b2-9be7-a2785a0a70b8'\u001b[0m,\n",
       "            \u001b[33mstep_type\u001b[0m=\u001b[32m'inference'\u001b[0m,\n",
       "            \u001b[33mturn_id\u001b[0m=\u001b[32m'a7017ac2-f332-4612-af0f-270eeef900e2'\u001b[0m,\n",
       "            \u001b[33mcompleted_at\u001b[0m=\u001b[1;35mdatetime\u001b[0m\u001b[1;35m.datetime\u001b[0m\u001b[1m(\u001b[0m\u001b[1;36m2025\u001b[0m, \u001b[1;36m6\u001b[0m, \u001b[1;36m6\u001b[0m, \u001b[1;36m13\u001b[0m, \u001b[1;36m44\u001b[0m, \u001b[1;36m12\u001b[0m, \u001b[1;36m986461\u001b[0m, \u001b[33mtzinfo\u001b[0m=\u001b[1;35mTzInfo\u001b[0m\u001b[1m(\u001b[0mUTC\u001b[1m)\u001b[0m\u001b[1m)\u001b[0m,\n",
       "            \u001b[33mstarted_at\u001b[0m=\u001b[1;35mdatetime\u001b[0m\u001b[1;35m.datetime\u001b[0m\u001b[1m(\u001b[0m\u001b[1;36m2025\u001b[0m, \u001b[1;36m6\u001b[0m, \u001b[1;36m6\u001b[0m, \u001b[1;36m13\u001b[0m, \u001b[1;36m44\u001b[0m, \u001b[1;36m5\u001b[0m, \u001b[1;36m331797\u001b[0m, \u001b[33mtzinfo\u001b[0m=\u001b[1;35mTzInfo\u001b[0m\u001b[1m(\u001b[0mUTC\u001b[1m)\u001b[0m\u001b[1m)\u001b[0m\n",
       "        \u001b[1m)\u001b[0m\n",
       "    \u001b[1m]\u001b[0m,\n",
       "    \u001b[33mturn_id\u001b[0m=\u001b[32m'a7017ac2-f332-4612-af0f-270eeef900e2'\u001b[0m,\n",
       "    \u001b[33mcompleted_at\u001b[0m=\u001b[1;35mdatetime\u001b[0m\u001b[1;35m.datetime\u001b[0m\u001b[1m(\u001b[0m\u001b[1;36m2025\u001b[0m, \u001b[1;36m6\u001b[0m, \u001b[1;36m6\u001b[0m, \u001b[1;36m13\u001b[0m, \u001b[1;36m44\u001b[0m, \u001b[1;36m13\u001b[0m, \u001b[1;36m1077\u001b[0m, \u001b[33mtzinfo\u001b[0m=\u001b[1;35mTzInfo\u001b[0m\u001b[1m(\u001b[0mUTC\u001b[1m)\u001b[0m\u001b[1m)\u001b[0m,\n",
       "    \u001b[33moutput_attachments\u001b[0m=\u001b[1m[\u001b[0m\u001b[1m]\u001b[0m\n",
       "\u001b[1m)\u001b[0m\n"
      ]
     },
     "metadata": {},
     "output_type": "display_data"
    }
   ],
   "source": [
    "response = agent.create_turn(\n",
    "    messages=[{\"role\": \"user\", \"content\": \"Are you able to search the web?\"}],\n",
    "    session_id=agent.create_session(f\"tool-check-{uuid.uuid4()}\"),\n",
    "    stream=False,\n",
    ")\n",
    "rich.print(response)"
   ]
  },
  {
   "cell_type": "code",
   "execution_count": 20,
   "metadata": {},
   "outputs": [
    {
     "name": "stderr",
     "output_type": "stream",
     "text": [
      "INFO:httpx:HTTP Request: POST http://localhost:8321/v1/agents \"HTTP/1.1 200 OK\"\n",
      "INFO:httpx:HTTP Request: GET http://localhost:8321/v1/tools?toolgroup_id=builtin%3A%3Awebsearch \"HTTP/1.1 200 OK\"\n",
      "INFO:httpx:HTTP Request: POST http://localhost:8321/v1/agents/45e4c7c3-ed03-4a14-a85c-83dafc08d25a/session \"HTTP/1.1 200 OK\"\n"
     ]
    },
    {
     "data": {
      "text/html": [
       "<pre style=\"white-space:pre;overflow-x:auto;line-height:normal;font-family:Menlo,'DejaVu Sans Mono',consolas,'Courier New',monospace\">User&gt; Are there any weather-related risks in my area that could disrupt network connectivity or system \n",
       "availability?\n",
       "</pre>\n"
      ],
      "text/plain": [
       "User> Are there any weather-related risks in my area that could disrupt network connectivity or system \n",
       "availability?\n"
      ]
     },
     "metadata": {},
     "output_type": "display_data"
    },
    {
     "name": "stderr",
     "output_type": "stream",
     "text": [
      "INFO:httpx:HTTP Request: POST http://localhost:8321/v1/agents/45e4c7c3-ed03-4a14-a85c-83dafc08d25a/session/3f5eaa43-a542-47e4-9e70-dfb8d5bed956/turn \"HTTP/1.1 200 OK\"\n"
     ]
    },
    {
     "name": "stdout",
     "output_type": "stream",
     "text": [
      "\u001b[33minference> \u001b[0m\u001b[36m\u001b[0m\u001b[36mbr\u001b[0m\u001b[36mave\u001b[0m\u001b[36m_search\u001b[0m\u001b[36m.call\u001b[0m\u001b[36m(query\u001b[0m\u001b[36m=\"\u001b[0m\u001b[36mweather\u001b[0m\u001b[36m-related\u001b[0m\u001b[36m risks\u001b[0m\u001b[36m near\u001b[0m\u001b[36m me\u001b[0m\u001b[36m\")\u001b[0m\u001b[97m\u001b[0m\n",
      "\u001b[32mtool_execution> Tool:brave_search Args:{'query': 'weather-related risks near me'}\u001b[0m\n",
      "\u001b[32mtool_execution> Tool:brave_search Response:{\"query\": \"weather-related risks near me\", \"top_k\": [{\"title\": \"Weather in near me\", \"url\": \"https://www.weatherapi.com/\", \"content\": \"{'location': {'name': 'Phumi Near Pisei', 'region': 'Koh Kong', 'country': 'Cambodia', 'lat': 11.1333, 'lon': 103.5833, 'tz_id': 'Asia/Phnom_Penh', 'localtime_epoch': 1749217299, 'localtime': '2025-06-06 20:41'}, 'current': {'last_updated_epoch': 1749216600, 'last_updated': '2025-06-06 20:30', 'temp_c': 26.5, 'temp_f': 79.6, 'is_day': 0, 'condition': {'text': 'Patchy rain nearby', 'icon': '//cdn.weatherapi.com/weather/64x64/night/176.png', 'code': 1063}, 'wind_mph': 4.0, 'wind_kph': 6.5, 'wind_degree': 265, 'wind_dir': 'W', 'pressure_mb': 1008.0, 'pressure_in': 29.78, 'precip_mm': 0.48, 'precip_in': 0.02, 'humidity': 90, 'cloud': 78, 'feelslike_c': 30.4, 'feelslike_f': 86.8, 'windchill_c': 26.5, 'windchill_f': 79.6, 'heatindex_c': 30.4, 'heatindex_f': 86.8, 'dewpoint_c': 24.7, 'dewpoint_f': 76.4, 'vis_km': 9.0, 'vis_miles': 5.0, 'uv': 0.0, 'gust_mph': 7.1, 'gust_kph': 11.5}}\", \"score\": 0.8122845, \"raw_content\": null}, {\"title\": \"Summer Weather Forecast for the US in 2025\", \"url\": \"https://www.accuweather.com/en/weather-forecasts/summer-weather-forecast-for-the-us-in-2025/1768530\", \"content\": \"Energy bills could run high this summer as AccuWeather long-range forecasters predict a hotter-than-normal season across large swaths of the United States. Meteorological summer starts on Sunday, June 1, and runs through the end of August, a three-month span that will feature sweltering heat, severe weather, intense wildfires and the start of a dynamic hurricane season. AccuWeather\\u2019s lead long-range expert Paul Pastelok was live on the AccuWeather Network on April 30 to discuss what the weather will be like this summer in the United States. AccuWeather is predicting 13 to 18 named storms, seven to 10 hurricanes and three to six direct U.S. impacts during the Atlantic hurricane season this year.\", \"score\": 0.44999737, \"raw_content\": null}, {\"title\": \"Climate Prediction Center\", \"url\": \"https://www.cpc.ncep.noaa.gov/\", \"content\": \"Climate News. NOAA 2025 Atlantic Hurricane Season Outlook (22 May 2025) NOAA Spring Outlook Press Release (20 Mar 2025) ENSO-neutral is favored through the Northern Hemisphere summer 2025 (74% chance during June-August), with chances exceeding 50% through August-October 2025 (8 May 2025)\", \"score\": 0.26817426, \"raw_content\": null}, {\"title\": \"U.S. Hazards Outlooks - Maps | NOAA Climate.gov\", \"url\": \"https://www.climate.gov/maps-data/dataset/us-hazards-outlooks-maps\", \"content\": \"Monday through Friday of each week, NOAA's Climate Prediction Center issues an outlook of weather- and climate-related hazards to the United States for the next eight to fourteen days. Potential hazards are shown for precipitation (heavy rain or snow), temperature (much-above or much-below normal), and soils (drought), Hazards maps are\", \"score\": 0.20788968, \"raw_content\": null}, {\"title\": \"Day 3-7 U.S. Hazards Outlook - Weather Prediction Center\", \"url\": \"https://www.wpc.ncep.noaa.gov/threats/threats.php\", \"content\": \"Day 3-7 U.S. Hazards Outlook Weather Prediction Center Forecasts & Analyses \\u25bc Day 3\\u20137 Hazards WPC Discussions Day 3-7 About the WPC U.S. Day 3-7 Hazards Outlook For the most up to date information on the flooding areas, please refer to the National Flood Outlook CPC's Day 8-14 US Hazards Outlook For more information about hazards affecting the Continental U.S., please see the Weather/Hazards Highlights section of our Extended Forecast Discussion. For more information about hazards affecting Alaska, please see the Weather/Hazards Highlights section of our Alaska Extended Forecast Discussion. For information about hazards affecting Hawaii, please read our Hawaiian Forecast Discussion. NWS Regional and Forecast Offices   WPC Product Archives Weather Ready Nation About WPC   Student Opportunities at WPC Weather Prediction Center\", \"score\": 0.13353972, \"raw_content\": null}]}\u001b[0m\n",
      "\u001b[33minference> \u001b[0m\u001b[33mBased\u001b[0m\u001b[33m on\u001b[0m\u001b[33m the\u001b[0m\u001b[33m search\u001b[0m\u001b[33m results\u001b[0m\u001b[33m,\u001b[0m\u001b[33m it\u001b[0m\u001b[33m appears\u001b[0m\u001b[33m that\u001b[0m\u001b[33m there\u001b[0m\u001b[33m are\u001b[0m\u001b[33m several\u001b[0m\u001b[33m weather\u001b[0m\u001b[33m-related\u001b[0m\u001b[33m risks\u001b[0m\u001b[33m in\u001b[0m\u001b[33m your\u001b[0m\u001b[33m area\u001b[0m\u001b[33m that\u001b[0m\u001b[33m could\u001b[0m\u001b[33m disrupt\u001b[0m\u001b[33m network\u001b[0m\u001b[33m connectivity\u001b[0m\u001b[33m or\u001b[0m\u001b[33m system\u001b[0m\u001b[33m availability\u001b[0m\u001b[33m.\u001b[0m\u001b[33m The\u001b[0m\u001b[33m first\u001b[0m\u001b[33m result\u001b[0m\u001b[33m from\u001b[0m\u001b[33m Weather\u001b[0m\u001b[33mAPI\u001b[0m\u001b[33m indicates\u001b[0m\u001b[33m that\u001b[0m\u001b[33m there\u001b[0m\u001b[33m is\u001b[0m\u001b[33m a\u001b[0m\u001b[33m patch\u001b[0m\u001b[33my\u001b[0m\u001b[33m rain\u001b[0m\u001b[33m nearby\u001b[0m\u001b[33m with\u001b[0m\u001b[33m a\u001b[0m\u001b[33m temperature\u001b[0m\u001b[33m of\u001b[0m\u001b[33m \u001b[0m\u001b[33m26\u001b[0m\u001b[33m.\u001b[0m\u001b[33m5\u001b[0m\u001b[33m°C\u001b[0m\u001b[33m (\u001b[0m\u001b[33m79\u001b[0m\u001b[33m.\u001b[0m\u001b[33m6\u001b[0m\u001b[33m°F\u001b[0m\u001b[33m)\u001b[0m\u001b[33m and\u001b[0m\u001b[33m a\u001b[0m\u001b[33m wind\u001b[0m\u001b[33m speed\u001b[0m\u001b[33m of\u001b[0m\u001b[33m \u001b[0m\u001b[33m4\u001b[0m\u001b[33m.\u001b[0m\u001b[33m0\u001b[0m\u001b[33m mph\u001b[0m\u001b[33m (\u001b[0m\u001b[33m6\u001b[0m\u001b[33m.\u001b[0m\u001b[33m5\u001b[0m\u001b[33m km\u001b[0m\u001b[33m/h\u001b[0m\u001b[33m).\u001b[0m\u001b[33m This\u001b[0m\u001b[33m could\u001b[0m\u001b[33m potentially\u001b[0m\u001b[33m cause\u001b[0m\u001b[33m disruptions\u001b[0m\u001b[33m to\u001b[0m\u001b[33m network\u001b[0m\u001b[33m connectivity\u001b[0m\u001b[33m and\u001b[0m\u001b[33m system\u001b[0m\u001b[33m availability\u001b[0m\u001b[33m.\n",
      "\n",
      "\u001b[0m\u001b[33mThe\u001b[0m\u001b[33m second\u001b[0m\u001b[33m result\u001b[0m\u001b[33m from\u001b[0m\u001b[33m Acc\u001b[0m\u001b[33mu\u001b[0m\u001b[33mWeather\u001b[0m\u001b[33m predicts\u001b[0m\u001b[33m a\u001b[0m\u001b[33m hotter\u001b[0m\u001b[33m-than\u001b[0m\u001b[33m-normal\u001b[0m\u001b[33m summer\u001b[0m\u001b[33m season\u001b[0m\u001b[33m across\u001b[0m\u001b[33m the\u001b[0m\u001b[33m United\u001b[0m\u001b[33m States\u001b[0m\u001b[33m,\u001b[0m\u001b[33m which\u001b[0m\u001b[33m could\u001b[0m\u001b[33m lead\u001b[0m\u001b[33m to\u001b[0m\u001b[33m increased\u001b[0m\u001b[33m energy\u001b[0m\u001b[33m bills\u001b[0m\u001b[33m and\u001b[0m\u001b[33m severe\u001b[0m\u001b[33m weather\u001b[0m\u001b[33m events\u001b[0m\u001b[33m such\u001b[0m\u001b[33m as\u001b[0m\u001b[33m hurricanes\u001b[0m\u001b[33m and\u001b[0m\u001b[33m wildfires\u001b[0m\u001b[33m.\u001b[0m\u001b[33m This\u001b[0m\u001b[33m could\u001b[0m\u001b[33m also\u001b[0m\u001b[33m impact\u001b[0m\u001b[33m network\u001b[0m\u001b[33m connectivity\u001b[0m\u001b[33m and\u001b[0m\u001b[33m system\u001b[0m\u001b[33m availability\u001b[0m\u001b[33m.\n",
      "\n",
      "\u001b[0m\u001b[33mThe\u001b[0m\u001b[33m third\u001b[0m\u001b[33m result\u001b[0m\u001b[33m from\u001b[0m\u001b[33m the\u001b[0m\u001b[33m Climate\u001b[0m\u001b[33m Prediction\u001b[0m\u001b[33m Center\u001b[0m\u001b[33m indicates\u001b[0m\u001b[33m that\u001b[0m\u001b[33m there\u001b[0m\u001b[33m is\u001b[0m\u001b[33m an\u001b[0m\u001b[33m \u001b[0m\u001b[33m8\u001b[0m\u001b[33m%\u001b[0m\u001b[33m chance\u001b[0m\u001b[33m of\u001b[0m\u001b[33m E\u001b[0m\u001b[33mNS\u001b[0m\u001b[33mO\u001b[0m\u001b[33m-neutral\u001b[0m\u001b[33m conditions\u001b[0m\u001b[33m through\u001b[0m\u001b[33m August\u001b[0m\u001b[33m-\u001b[0m\u001b[33mOctober\u001b[0m\u001b[33m \u001b[0m\u001b[33m202\u001b[0m\u001b[33m5\u001b[0m\u001b[33m,\u001b[0m\u001b[33m which\u001b[0m\u001b[33m could\u001b[0m\u001b[33m lead\u001b[0m\u001b[33m to\u001b[0m\u001b[33m drought\u001b[0m\u001b[33ms\u001b[0m\u001b[33m or\u001b[0m\u001b[33m heavy\u001b[0m\u001b[33m rainfall\u001b[0m\u001b[33m in\u001b[0m\u001b[33m certain\u001b[0m\u001b[33m areas\u001b[0m\u001b[33m.\u001b[0m\u001b[33m This\u001b[0m\u001b[33m could\u001b[0m\u001b[33m also\u001b[0m\u001b[33m impact\u001b[0m\u001b[33m network\u001b[0m\u001b[33m connectivity\u001b[0m\u001b[33m and\u001b[0m\u001b[33m system\u001b[0m\u001b[33m availability\u001b[0m\u001b[33m.\n",
      "\n",
      "\u001b[0m\u001b[33mThe\u001b[0m\u001b[33m fourth\u001b[0m\u001b[33m result\u001b[0m\u001b[33m from\u001b[0m\u001b[33m NOAA\u001b[0m\u001b[33m's\u001b[0m\u001b[33m U\u001b[0m\u001b[33m.S\u001b[0m\u001b[33m.\u001b[0m\u001b[33m Haz\u001b[0m\u001b[33mards\u001b[0m\u001b[33m Outlook\u001b[0m\u001b[33m maps\u001b[0m\u001b[33m shows\u001b[0m\u001b[33m potential\u001b[0m\u001b[33m hazards\u001b[0m\u001b[33m such\u001b[0m\u001b[33m as\u001b[0m\u001b[33m precipitation\u001b[0m\u001b[33m,\u001b[0m\u001b[33m temperature\u001b[0m\u001b[33m,\u001b[0m\u001b[33m and\u001b[0m\u001b[33m soils\u001b[0m\u001b[33m (\u001b[0m\u001b[33md\u001b[0m\u001b[33mrought\u001b[0m\u001b[33m)\u001b[0m\u001b[33m for\u001b[0m\u001b[33m the\u001b[0m\u001b[33m next\u001b[0m\u001b[33m eight\u001b[0m\u001b[33m to\u001b[0m\u001b[33m fourteen\u001b[0m\u001b[33m days\u001b[0m\u001b[33m.\u001b[0m\u001b[33m This\u001b[0m\u001b[33m could\u001b[0m\u001b[33m also\u001b[0m\u001b[33m impact\u001b[0m\u001b[33m network\u001b[0m\u001b[33m connectivity\u001b[0m\u001b[33m and\u001b[0m\u001b[33m system\u001b[0m\u001b[33m availability\u001b[0m\u001b[33m.\n",
      "\n",
      "\u001b[0m\u001b[33mTherefore\u001b[0m\u001b[33m,\u001b[0m\u001b[33m it\u001b[0m\u001b[33m is\u001b[0m\u001b[33m recommended\u001b[0m\u001b[33m to\u001b[0m\u001b[33m monitor\u001b[0m\u001b[33m weather\u001b[0m\u001b[33m forecasts\u001b[0m\u001b[33m and\u001b[0m\u001b[33m warnings\u001b[0m\u001b[33m in\u001b[0m\u001b[33m your\u001b[0m\u001b[33m area\u001b[0m\u001b[33m to\u001b[0m\u001b[33m stay\u001b[0m\u001b[33m informed\u001b[0m\u001b[33m about\u001b[0m\u001b[33m any\u001b[0m\u001b[33m potential\u001b[0m\u001b[33m disruptions\u001b[0m\u001b[33m to\u001b[0m\u001b[33m network\u001b[0m\u001b[33m connectivity\u001b[0m\u001b[33m or\u001b[0m\u001b[33m system\u001b[0m\u001b[33m availability\u001b[0m\u001b[33m.\u001b[0m\u001b[97m\u001b[0m\n",
      "\u001b[30m\u001b[0m"
     ]
    }
   ],
   "source": [
    "agent = Agent(\n",
    "    client, \n",
    "    model=\"llama3.2:3b-instruct-fp16\",\n",
    "    instructions=\"You are a helpful assistant. Use websearch tool to help answer questions.\",\n",
    "    tools=[\"builtin::websearch\"],\n",
    ")\n",
    "user_prompts = [\n",
    "    # \"Are there any weather-related risks in my area?\",\n",
    "    \"Are there any weather-related risks in my area that could disrupt network connectivity or system availability?\",\n",
    "\n",
    "]\n",
    "session_id = agent.create_session(f\"test-session-{uuid.uuid4()}\")\n",
    "for prompt in user_prompts:\n",
    "    rich.print(f\"User> {prompt}\")\n",
    "\n",
    "    response = agent.create_turn(\n",
    "        messages=[{\"role\": \"user\", \"content\": prompt}],\n",
    "        session_id=session_id,\n",
    "        stream=True,\n",
    "    )\n",
    "    for log in AgentEventLogger().log(response):\n",
    "        log.print()"
   ]
  },
  {
   "cell_type": "markdown",
   "metadata": {},
   "source": [
    "## Prompt Chaining"
   ]
  },
  {
   "cell_type": "code",
   "execution_count": 21,
   "metadata": {},
   "outputs": [
    {
     "name": "stderr",
     "output_type": "stream",
     "text": [
      "INFO:httpx:HTTP Request: POST http://localhost:8321/v1/agents \"HTTP/1.1 200 OK\"\n",
      "INFO:httpx:HTTP Request: GET http://localhost:8321/v1/tools?toolgroup_id=builtin%3A%3Awebsearch \"HTTP/1.1 200 OK\"\n",
      "INFO:httpx:HTTP Request: POST http://localhost:8321/v1/agents/23c52dcc-743d-4c91-b15b-0ed5e47f1a64/session \"HTTP/1.1 200 OK\"\n"
     ]
    },
    {
     "data": {
      "text/html": [
       "<pre style=\"white-space:pre;overflow-x:auto;line-height:normal;font-family:Menlo,'DejaVu Sans Mono',consolas,'Courier New',monospace\">User&gt; Where am I?\n",
       "</pre>\n"
      ],
      "text/plain": [
       "User> Where am I?\n"
      ]
     },
     "metadata": {},
     "output_type": "display_data"
    },
    {
     "name": "stderr",
     "output_type": "stream",
     "text": [
      "INFO:httpx:HTTP Request: POST http://localhost:8321/v1/agents/23c52dcc-743d-4c91-b15b-0ed5e47f1a64/session/b40d1dc6-cd6d-4a52-b8af-10e261013ef4/turn \"HTTP/1.1 200 OK\"\n"
     ]
    },
    {
     "name": "stdout",
     "output_type": "stream",
     "text": [
      "\u001b[33minference> \u001b[0m\u001b[33m[\u001b[0m\u001b[33mget\u001b[0m\u001b[33m_location\u001b[0m\u001b[33m(query\u001b[0m\u001b[33m=\"\u001b[0m\u001b[33mmy\u001b[0m\u001b[33m current\u001b[0m\u001b[33m location\u001b[0m\u001b[33m\")]\u001b[0m\u001b[97m\u001b[0m\n",
      "\u001b[30m\u001b[0m"
     ]
    },
    {
     "name": "stderr",
     "output_type": "stream",
     "text": [
      "INFO:geocoder.base:Requested http://ipinfo.io/json\n",
      "INFO:httpx:HTTP Request: POST http://localhost:8321/v1/agents/23c52dcc-743d-4c91-b15b-0ed5e47f1a64/session/b40d1dc6-cd6d-4a52-b8af-10e261013ef4/turn/b0d69d5b-5bae-4df1-8641-e5f935c6abdf/resume \"HTTP/1.1 200 OK\"\n"
     ]
    },
    {
     "name": "stdout",
     "output_type": "stream",
     "text": [
      "\u001b[32mtool_execution> Tool:get_location Args:{'query': 'my current location'}\u001b[0m\n",
      "\u001b[32mtool_execution> Tool:get_location Response:\"Your current location is: Llinars del Vallès, Catalonia, ES\"\u001b[0m\n",
      "\u001b[33minference> \u001b[0m\u001b[36m\u001b[0m\u001b[36m{\"\u001b[0m\u001b[36mmessage\u001b[0m\u001b[36m\":\u001b[0m\u001b[36m \"\u001b[0m\u001b[36mYour\u001b[0m\u001b[36m current\u001b[0m\u001b[36m location\u001b[0m\u001b[36m is\u001b[0m\u001b[36m:\u001b[0m\u001b[36m L\u001b[0m\u001b[36mlin\u001b[0m\u001b[36mars\u001b[0m\u001b[36m del\u001b[0m\u001b[36m Vall\u001b[0m\u001b[36m\\u\u001b[0m\u001b[36m00\u001b[0m\u001b[36me\u001b[0m\u001b[36m8\u001b[0m\u001b[36ms\u001b[0m\u001b[36m,\u001b[0m\u001b[36m Catalonia\u001b[0m\u001b[36m,\u001b[0m\u001b[36m ES\u001b[0m\u001b[36m\"}\u001b[0m\u001b[36m<|python_tag|>{\"message\": \"Your current location is: Llinars del Vall\\u00e8s, Catalonia, ES\"}\u001b[0m\u001b[97m\u001b[0m\n",
      "\u001b[30m\u001b[0m"
     ]
    },
    {
     "data": {
      "text/html": [
       "<pre style=\"white-space:pre;overflow-x:auto;line-height:normal;font-family:Menlo,'DejaVu Sans Mono',consolas,'Courier New',monospace\">User&gt; Are there any weather-related risks in my area?\n",
       "</pre>\n"
      ],
      "text/plain": [
       "User> Are there any weather-related risks in my area?\n"
      ]
     },
     "metadata": {},
     "output_type": "display_data"
    },
    {
     "name": "stderr",
     "output_type": "stream",
     "text": [
      "INFO:httpx:HTTP Request: POST http://localhost:8321/v1/agents/23c52dcc-743d-4c91-b15b-0ed5e47f1a64/session/b40d1dc6-cd6d-4a52-b8af-10e261013ef4/turn \"HTTP/1.1 200 OK\"\n"
     ]
    },
    {
     "name": "stdout",
     "output_type": "stream",
     "text": [
      "\u001b[33minference> \u001b[0m\u001b[36m\u001b[0m\u001b[36m[\u001b[0m\u001b[36mget\u001b[0m\u001b[36m_location\u001b[0m\u001b[36m(query\u001b[0m\u001b[36m=\"\u001b[0m\u001b[36mweather\u001b[0m\u001b[36m risks\u001b[0m\u001b[36m near\u001b[0m\u001b[36m me\u001b[0m\u001b[36m\")]\u001b[0m\u001b[97m\u001b[0m\n",
      "\u001b[30m\u001b[0m"
     ]
    },
    {
     "name": "stderr",
     "output_type": "stream",
     "text": [
      "INFO:geocoder.base:Requested http://ipinfo.io/json\n",
      "INFO:httpx:HTTP Request: POST http://localhost:8321/v1/agents/23c52dcc-743d-4c91-b15b-0ed5e47f1a64/session/b40d1dc6-cd6d-4a52-b8af-10e261013ef4/turn/bf9d38bc-2533-46bd-bba1-643e8fa22aea/resume \"HTTP/1.1 200 OK\"\n"
     ]
    },
    {
     "name": "stdout",
     "output_type": "stream",
     "text": [
      "\u001b[32mtool_execution> Tool:get_location Args:{'query': 'weather risks near me'}\u001b[0m\n",
      "\u001b[32mtool_execution> Tool:get_location Response:\"Your current location is: Llinars del Vallès, Catalonia, ES\"\u001b[0m\n",
      "\u001b[33minference> \u001b[0m\u001b[36m\u001b[0m\u001b[36m{\"\u001b[0m\u001b[36mmessage\u001b[0m\u001b[36m\":\u001b[0m\u001b[36m \"\u001b[0m\u001b[36mThere\u001b[0m\u001b[36m are\u001b[0m\u001b[36m no\u001b[0m\u001b[36m severe\u001b[0m\u001b[36m weather\u001b[0m\u001b[36m warnings\u001b[0m\u001b[36m for\u001b[0m\u001b[36m your\u001b[0m\u001b[36m location\u001b[0m\u001b[36m.\u001b[0m\u001b[36m However\u001b[0m\u001b[36m,\u001b[0m\u001b[36m there\u001b[0m\u001b[36m is\u001b[0m\u001b[36m a\u001b[0m\u001b[36m chance\u001b[0m\u001b[36m of\u001b[0m\u001b[36m scattered\u001b[0m\u001b[36m thunder\u001b[0m\u001b[36mstorms\u001b[0m\u001b[36m in\u001b[0m\u001b[36m the\u001b[0m\u001b[36m area\u001b[0m\u001b[36m today\u001b[0m\u001b[36m.\",\u001b[0m\u001b[36m \"\u001b[0m\u001b[36mprobability\u001b[0m\u001b[36m\":\u001b[0m\u001b[36m \u001b[0m\u001b[36m0\u001b[0m\u001b[36m.\u001b[0m\u001b[36m7\u001b[0m\u001b[36m}\u001b[0m\u001b[36m<|python_tag|>{\"message\": \"There are no severe weather warnings for your location. However, there is a chance of scattered thunderstorms in the area today.\", \"probability\": 0.7}\u001b[0m\u001b[97m\u001b[0m\n",
      "\u001b[30m\u001b[0m"
     ]
    }
   ],
   "source": [
    "agent = Agent(\n",
    "    client,\n",
    "    model=\"llama3.2:3b-instruct-fp16\",\n",
    "    instructions=\"\"\"You are a helpful assistant. \n",
    "    When a user asks about their location, use the get_location tool. \n",
    "    When searching for nearby places, use the websearch tool.\n",
    "    \"\"\",\n",
    "    tools=[get_location, \"builtin::websearch\"],\n",
    ")\n",
    "user_prompts = [\n",
    "    \"Where am I?\",\n",
    "    \"Are there any weather-related risks in my area?\",\n",
    "]\n",
    "session_id = agent.create_session(f\"prompt-chaining-session-{uuid.uuid4()}\")\n",
    "for prompt in user_prompts:\n",
    "    rich.print(f\"User> {prompt}\")\n",
    "    response = agent.create_turn(\n",
    "        messages=[{\"role\": \"user\", \"content\": prompt}],\n",
    "        session_id=session_id,\n",
    "    )\n",
    "    for log in EventLogger().log(response):\n",
    "        log.print()"
   ]
  },
  {
   "cell_type": "markdown",
   "metadata": {},
   "source": [
    "### ReAct Agent \n",
    "\n",
    "This section demonstrates the ReAct (Reasoning and Acting) framework in action.\n",
    "\n",
    "For example, when asked \"Are there any weather-related risks in my area that could disrupt network connectivity or system availability?\", the agent:\n",
    "1. **Reasons** it needs location information first\n",
    "2. **Acts** by calling the `get_location` client tool\n",
    "3. **Observes** the location result\n",
    "4. **Reasons** about the next step\n",
    "5. **Acts** by calling the `websearch` tool with observed location\n",
    "6. **Observes** and processes the search results\n",
    "\n",
    "Unlike prompt chaining which follows fixed steps, ReAct dynamically breaks down tasks and adapts its approach based on the results of each step. This makes it more flexible and capable of handling complex, real-world queries effectively."
   ]
  },
  {
   "cell_type": "code",
   "execution_count": 24,
   "metadata": {},
   "outputs": [
    {
     "name": "stderr",
     "output_type": "stream",
     "text": [
      "INFO:httpx:HTTP Request: POST http://localhost:8321/v1/agents \"HTTP/1.1 200 OK\"\n",
      "INFO:httpx:HTTP Request: GET http://localhost:8321/v1/tools?toolgroup_id=builtin%3A%3Awebsearch \"HTTP/1.1 200 OK\"\n",
      "INFO:httpx:HTTP Request: POST http://localhost:8321/v1/agents/03f704ac-cd02-4fb4-8bb5-b208e5299633/session \"HTTP/1.1 200 OK\"\n"
     ]
    },
    {
     "data": {
      "text/html": [
       "<pre style=\"white-space:pre;overflow-x:auto;line-height:normal;font-family:Menlo,'DejaVu Sans Mono',consolas,'Courier New',monospace\">User&gt; Are there any weather-related risks in my area?\n",
       "</pre>\n"
      ],
      "text/plain": [
       "User> Are there any weather-related risks in my area?\n"
      ]
     },
     "metadata": {},
     "output_type": "display_data"
    },
    {
     "name": "stderr",
     "output_type": "stream",
     "text": [
      "INFO:httpx:HTTP Request: POST http://localhost:8321/v1/agents/03f704ac-cd02-4fb4-8bb5-b208e5299633/session/b276713e-9524-49c0-b368-696315a0029c/turn \"HTTP/1.1 200 OK\"\n"
     ]
    },
    {
     "name": "stdout",
     "output_type": "stream",
     "text": [
      "\u001b[33minference> \u001b[0m\u001b[31m500: Internal server error: An unexpected error occurred.\u001b[0m\n"
     ]
    }
   ],
   "source": [
    "agent = ReActAgent(\n",
    "    client=client,\n",
    "    model=\"llama3.2:3b-instruct-fp16\",\n",
    "    instructions=\"You are a helpful assistant. Use the tools at your disposal to answer any questions.\",\n",
    "    tools=[get_location, \"builtin::websearch\"],\n",
    "    response_format={\n",
    "        \"type\": \"json_schema\",\n",
    "        \"json_schema\": ReActOutput.model_json_schema(),\n",
    "    },\n",
    ")\n",
    "user_prompts = [\n",
    "    \"Are there any weather-related risks in my area?\",\n",
    "]\n",
    "session_id = agent.create_session(f\"web-session-{uuid.uuid4()}\")\n",
    "for prompt in user_prompts:\n",
    "    rich.print(f\"User> {prompt}\")\n",
    "    response = agent.create_turn(\n",
    "        messages=[{\"role\": \"user\", \"content\": prompt}],\n",
    "        session_id=session_id,\n",
    "    )\n",
    "    for log in EventLogger().log(response):\n",
    "        log.print()"
   ]
  },
  {
   "cell_type": "code",
   "execution_count": null,
   "metadata": {},
   "outputs": [],
   "source": []
  }
 ],
 "metadata": {
  "kernelspec": {
   "display_name": ".venv",
   "language": "python",
   "name": "python3"
  },
  "language_info": {
   "codemirror_mode": {
    "name": "ipython",
    "version": 3
   },
   "file_extension": ".py",
   "mimetype": "text/x-python",
   "name": "python",
   "nbconvert_exporter": "python",
   "pygments_lexer": "ipython3",
   "version": "3.12.2"
  }
 },
 "nbformat": 4,
 "nbformat_minor": 4
}
